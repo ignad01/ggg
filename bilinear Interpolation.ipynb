{
 "cells": [
  {
   "cell_type": "code",
   "execution_count": 1,
   "id": "e029f16e",
   "metadata": {},
   "outputs": [],
   "source": [
    "from PIL import Image\n",
    "import math\n",
    "import numpy as np\n",
    "import time"
   ]
  },
  {
   "cell_type": "code",
   "execution_count": 15,
   "id": "84271343",
   "metadata": {},
   "outputs": [],
   "source": [
    "def bl_resize1(original_img, new_h, new_w):\n",
    "    #get dimensions of original image\n",
    "    old_h, old_w, c = original_img.shape\n",
    "    #create an array of the desired shape. \n",
    "    #We will fill-in the values later.\n",
    "    resized = np.zeros((new_h, new_w, c))\n",
    "    #Calculate horizontal and vertical scaling factor\n",
    "    w_scale_factor = (old_w ) / (new_w ) if new_h != 0 else 0\n",
    "    h_scale_factor = (old_h ) / (new_h ) if new_w != 0 else 0\n",
    "    for i in range(new_h):\n",
    "        for j in range(new_w):\n",
    "            #map the coordinates back to the original image\n",
    "            x = i * h_scale_factor\n",
    "            y = j * w_scale_factor\n",
    "            #calculate the coordinate values for 4 surrounding pixels.\n",
    "            x_floor = math.floor(x)\n",
    "            x_ceil = min( old_h - 1, math.ceil(x))\n",
    "            y_floor = math.floor(y)\n",
    "            y_ceil = min(old_w - 1, math.ceil(y))\n",
    "\n",
    "            if (x_ceil == x_floor) and (y_ceil == y_floor):\n",
    "                q = original_img[int(x), int(y), :]\n",
    "            elif (x_ceil == x_floor):\n",
    "                q1 = original_img[int(x), int(y_floor), :]\n",
    "                q2 = original_img[int(x), int(y_ceil), :]\n",
    "                q = q1 * (y_ceil - y) + q2 * (y - y_floor)\n",
    "            elif (y_ceil == y_floor):\n",
    "                q1 = original_img[int(x_floor), int(y), :]\n",
    "                q2 = original_img[int(x_ceil), int(y), :]\n",
    "                q = (q1 * (x_ceil - x)) + (q2\t * (x - x_floor))\n",
    "            else:\n",
    "                v1 = original_img[x_floor, y_floor, :]\n",
    "                v2 = original_img[x_ceil, y_floor, :]\n",
    "                v3 = original_img[x_floor, y_ceil, :]\n",
    "                v4 = original_img[x_ceil, y_ceil, :]\n",
    "\n",
    "                q1 = v1 * (x_ceil - x) + v2 * (x - x_floor)\n",
    "                q2 = v3 * (x_ceil - x) + v4 * (x - x_floor)\n",
    "                q = q1 * (y_ceil - y) + q2 * (y - y_floor)\n",
    "\n",
    "            resized[i,j,:] = q\n",
    "    return resized.astype(np.uint8)"
   ]
  },
  {
   "cell_type": "code",
   "execution_count": 21,
   "id": "ccb12f22",
   "metadata": {},
   "outputs": [],
   "source": [
    "Img = Image.open(\"Lenna.png\")\n",
    "ImgArray = np.asarray(Img)\n",
    "old_h, old_w, c = ImgArray.shape\n",
    "scale = 0.5\n",
    "new_h, new_w = int(old_h*scale), int(old_w*scale)"
   ]
  },
  {
   "cell_type": "code",
   "execution_count": 22,
   "id": "50a1f896",
   "metadata": {},
   "outputs": [
    {
     "name": "stdout",
     "output_type": "stream",
     "text": [
      "Total time: 0.1681215763092041s\n"
     ]
    }
   ],
   "source": [
    "start_time = time.time()\n",
    "OutImgArray = bl_resize1(ImgArray, new_h, new_w)\n",
    "end_time = time.time()\n",
    "total_time = end_time - start_time\n",
    "print(f\"Total time: {total_time}s\")\n",
    "\n",
    "OutImg = Image.fromarray(OutImgArray)\n",
    "OutImg.save(\"Resized_out.jpg\", 'JPEG')\n",
    "OutImg.show()"
   ]
  },
  {
   "cell_type": "code",
   "execution_count": null,
   "id": "258ee112",
   "metadata": {},
   "outputs": [],
   "source": []
  }
 ],
 "metadata": {
  "kernelspec": {
   "display_name": "Python 3 (ipykernel)",
   "language": "python",
   "name": "python3"
  },
  "language_info": {
   "codemirror_mode": {
    "name": "ipython",
    "version": 3
   },
   "file_extension": ".py",
   "mimetype": "text/x-python",
   "name": "python",
   "nbconvert_exporter": "python",
   "pygments_lexer": "ipython3",
   "version": "3.11.4"
  }
 },
 "nbformat": 4,
 "nbformat_minor": 5
}
